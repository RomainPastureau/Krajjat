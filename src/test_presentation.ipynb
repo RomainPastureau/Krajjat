{
 "cells": [
  {
   "cell_type": "markdown",
   "metadata": {},
   "source": [
    "# Krajjat demo"
   ]
  },
  {
   "cell_type": "markdown",
   "metadata": {},
   "source": [
    "## Preparation"
   ]
  },
  {
   "cell_type": "markdown",
   "metadata": {},
   "source": [
    "### Importations"
   ]
  },
  {
   "cell_type": "code",
   "execution_count": 1,
   "metadata": {},
   "outputs": [
    {
     "name": "stdout",
     "output_type": "stream",
     "text": [
      "pygame 2.5.1 (SDL 2.28.2, Python 3.11.4)\n",
      "Hello from the pygame community. https://www.pygame.org/contribute.html\n"
     ]
    }
   ],
   "source": [
    "import os.path as op\n",
    "from krajjat.classes.sequence import Sequence\n",
    "from krajjat.classes.audio import Audio\n",
    "from krajjat.classes.subject import Subject\n",
    "from krajjat.classes.experiment import Experiment\n",
    "from krajjat.display_functions import *\n",
    "from krajjat.plot_functions import *\n",
    "from krajjat.analysis_functions import *"
   ]
  },
  {
   "cell_type": "markdown",
   "metadata": {},
   "source": [
    "### Path definition"
   ]
  },
  {
   "cell_type": "code",
   "execution_count": 2,
   "metadata": {},
   "outputs": [],
   "source": [
    "path_parent = \"D:/OneDrive/Documents/BCBL/05_BodyLingual/Stimuli/Recordings/Retellings/\"\n",
    "path_original = path_parent + \"Gesture/02_Trimmed_original_gesture/\"\n",
    "path_videos = path_parent + \"Audiovisual/03_Normalized_audiovisual/Normalized_bodies/\"\n",
    "path_audios = path_parent + \"Audio/04_Trimmed_audio/\"\n",
    "path_preprocessed = path_parent + \"Gesture/02_Preprocessed_gesture/\"\n",
    "path_outputs = \"D:/OneDrive/Bureau/\"\n",
    "\n",
    "subject = \"05_Larraitz\"\n",
    "recording = \"R034\"\n",
    "\n",
    "path_sequence = op.join(path_original, subject, recording)\n",
    "path_video = op.join(path_videos, subject, recording)\n",
    "path_audio = op.join(path_audios, subject, recording)\n",
    "#path_sequence_preprocessed = op.join(path_preprocessed, subject, recording)\n",
    "#sequence1_preprocessed = Sequence(path_sequence_preprocessed + \".xlsx\")"
   ]
  },
  {
   "cell_type": "markdown",
   "metadata": {},
   "source": [
    "## Display a sequence"
   ]
  },
  {
   "cell_type": "code",
   "execution_count": 3,
   "metadata": {},
   "outputs": [
    {
     "name": "stdout",
     "output_type": "stream",
     "text": [
      "Fetching sequence files... 725 pose file(s) found.\n",
      "Opening sequence from D:/OneDrive/Documents/BCBL/05_BodyLingual/Stimuli/Recordings/Retellings/Gesture/02_Trimmed_original_gesture/05_Larraitz\\R034... 10% 20% 30% 40% 50% 60% 70% 80% 90% 100% - Done.\n"
     ]
    }
   ],
   "source": [
    "sequence1 = Sequence(path_sequence)"
   ]
  },
  {
   "cell_type": "code",
   "execution_count": null,
   "metadata": {},
   "outputs": [],
   "source": [
    "sequence_reader(sequence1)"
   ]
  },
  {
   "cell_type": "markdown",
   "metadata": {},
   "source": [
    "### Add the video and the audio"
   ]
  },
  {
   "cell_type": "code",
   "execution_count": null,
   "metadata": {},
   "outputs": [],
   "source": [
    "sequence_reader(sequence1, \n",
    "                path_video = path_video + \".mp4\",\n",
    "                path_audio = path_audio + \".wav\")"
   ]
  },
  {
   "cell_type": "markdown",
   "metadata": {},
   "source": [
    "### Showing them side by side"
   ]
  },
  {
   "cell_type": "code",
   "execution_count": null,
   "metadata": {},
   "outputs": [],
   "source": [
    "sequence_reader(sequence1, \n",
    "                path_video = path_video + \".mp4\",\n",
    "                path_audio = path_audio + \".wav\",\n",
    "                position_video = \"side\")"
   ]
  },
  {
   "cell_type": "markdown",
   "metadata": {},
   "source": [
    "## Removing the jitter"
   ]
  },
  {
   "cell_type": "code",
   "execution_count": 4,
   "metadata": {},
   "outputs": [
    {
     "name": "stdout",
     "output_type": "stream",
     "text": [
      "Correcting jumps and twitches... \n",
      "\tCreating an empty sequence... 10% 20% 30% 40% 50% 60% 70% 80% 90% 100% - Done.\n",
      "\tPerforming realignment... 10% 20% 30% 40% 50% 60% 70% 80% 90% 100% - Done.\n",
      "De-jittering over. 1991 point(s) corrected over 15225 (13.1%).\n",
      "864 jump(s) and 235 twitch(es) corrected.\n",
      "\n"
     ]
    }
   ],
   "source": [
    "sequence1_corrected = sequence1.correct_jitter(velocity_threshold = 0.5,\n",
    "                                               window = 250,\n",
    "                                               window_unit = \"ms\")"
   ]
  },
  {
   "cell_type": "code",
   "execution_count": null,
   "metadata": {},
   "outputs": [],
   "source": [
    "sequence_reader(sequence1_corrected, \n",
    "                path_video = path_video + \".mp4\",\n",
    "                path_audio = path_audio + \".wav\",\n",
    "                position_video = \"side\")"
   ]
  },
  {
   "cell_type": "code",
   "execution_count": null,
   "metadata": {},
   "outputs": [],
   "source": [
    "sequence_comparer(sequence1, \n",
    "                  sequence1_corrected, \n",
    "                  position_sequences = \"side\",\n",
    "                  path_video = path_video + \".mp4\",\n",
    "                  path_audio = path_audio + \".wav\",\n",
    "                  zoom_level = 2.9,\n",
    "                  shift = (-290, -167),\n",
    "                  size_joint_hand = 30,\n",
    "                  size_joint_default = 15,\n",
    "                  size_joint_head = 50,\n",
    "                  width_line = 6,\n",
    "                  color_joint_default = \"dark blue\",\n",
    "                  color_line = \"light blue\")\n",
    "# Poses 156 - 160 good example"
   ]
  },
  {
   "cell_type": "markdown",
   "metadata": {},
   "source": [
    "## Resampling"
   ]
  },
  {
   "cell_type": "code",
   "execution_count": 5,
   "metadata": {},
   "outputs": [
    {
     "name": "stdout",
     "output_type": "stream",
     "text": [
      "Path: D:/OneDrive/Documents/BCBL/05_BodyLingual/Stimuli/Recordings/Retellings/Gesture/02_Trimmed_original_gesture/05_Larraitz\\R034\n",
      "Date of recording: No date found\n",
      "Duration: 60.828089800000015 s\n",
      "Number of poses: 725\n",
      "Subject height: 1.59 m\n",
      "Left arm length: 0.461 m\n",
      "Right arm length: 0.464 m\n",
      "Average framerate: 11.902395790834118\n",
      "SD framerate: 1.1759833683547611\n",
      "Min framerate: 5.631705601463119\n",
      "Max framerate: 15.192096463735876\n",
      "Fill level Head: 100.0 %\n",
      "Fill level Neck: 100.0 %\n",
      "Fill level SpineShoulder: 100.0 %\n",
      "Fill level SpineMid: 100.0 %\n",
      "Fill level SpineBase: 100.0 %\n",
      "Fill level ShoulderLeft: 100.0 %\n",
      "Fill level ElbowLeft: 100.0 %\n",
      "Fill level WristLeft: 100.0 %\n",
      "Fill level HandLeft: 100.0 %\n",
      "Fill level ShoulderRight: 100.0 %\n",
      "Fill level ElbowRight: 100.0 %\n",
      "Fill level WristRight: 100.0 %\n",
      "Fill level HandRight: 100.0 %\n",
      "Fill level HipLeft: 100.0 %\n",
      "Fill level KneeLeft: 100.0 %\n",
      "Fill level AnkleLeft: 100.0 %\n",
      "Fill level FootLeft: 100.0 %\n",
      "Fill level HipRight: 100.0 %\n",
      "Fill level KneeRight: 100.0 %\n",
      "Fill level AnkleRight: 100.0 %\n",
      "Fill level FootRight: 100.0 %\n",
      "Average velocity Head: 98.4 mm/s\n",
      "Average velocity Neck: 87.0 mm/s\n",
      "Average velocity SpineShoulder: 78.1 mm/s\n",
      "Average velocity SpineMid: 56.4 mm/s\n",
      "Average velocity SpineBase: 59.9 mm/s\n",
      "Average velocity ShoulderLeft: 103.5 mm/s\n",
      "Average velocity ElbowLeft: 222.6 mm/s\n",
      "Average velocity WristLeft: 295.3 mm/s\n",
      "Average velocity HandLeft: 317.1 mm/s\n",
      "Average velocity ShoulderRight: 99.0 mm/s\n",
      "Average velocity ElbowRight: 262.9 mm/s\n",
      "Average velocity WristRight: 351.3 mm/s\n",
      "Average velocity HandRight: 396.9 mm/s\n",
      "Average velocity HipLeft: 65.5 mm/s\n",
      "Average velocity KneeLeft: 56.1 mm/s\n",
      "Average velocity AnkleLeft: 33.5 mm/s\n",
      "Average velocity FootLeft: 65.4 mm/s\n",
      "Average velocity HipRight: 63.0 mm/s\n",
      "Average velocity KneeRight: 59.4 mm/s\n",
      "Average velocity AnkleRight: 57.2 mm/s\n",
      "Average velocity FootRight: 75.3 mm/s\n"
     ]
    }
   ],
   "source": [
    "sequence1_corrected.print_stats()"
   ]
  },
  {
   "cell_type": "code",
   "execution_count": null,
   "metadata": {},
   "outputs": [],
   "source": [
    "framerate_plotter(sequence1_corrected)"
   ]
  },
  {
   "cell_type": "code",
   "execution_count": 6,
   "metadata": {},
   "outputs": [
    {
     "name": "stdout",
     "output_type": "stream",
     "text": [
      "Resampling the sequence at 12 Hz (mode: cubic)...\n",
      "\tOriginal framerate: \n",
      "\t\tAverage: 11.9 · Min: 5.63 · Max: 15.19\n",
      "\tCreating vectors... 10% 20% 30% 40% 50% 60% 70% 80% 90% 100% - Done.\n",
      "\tPerforming the resampling... 10% 20% 30% 40% 50% 60% 70% 80% 90% 100% - Done.\n",
      "\tSaving the new sequence... 10% 20% 30% 40% 50% 60% 70% 80% 90% 100% - Done.\n",
      "\tOriginal sequence had 725 poses.\n",
      "\tNew sequence has 730 poses.\n",
      "\n"
     ]
    }
   ],
   "source": [
    "sequence1_resampled = sequence1_corrected.resample(12)"
   ]
  },
  {
   "cell_type": "code",
   "execution_count": null,
   "metadata": {},
   "outputs": [],
   "source": [
    "framerate_plotter(sequence1_resampled)"
   ]
  },
  {
   "cell_type": "code",
   "execution_count": null,
   "metadata": {},
   "outputs": [],
   "source": [
    "sequence_comparer(sequence1_corrected, \n",
    "                  sequence1_resampled, \n",
    "                  show_joints_corrected = False,\n",
    "                  position_sequences = \"side\",\n",
    "                  path_video = path_video + \".mp4\",\n",
    "                  path_audio = path_audio + \".wav\",\n",
    "                  zoom_level = 2.9,\n",
    "                  shift = (-290, -167),\n",
    "                  size_joint_hand = 30,\n",
    "                  size_joint_default = 15,\n",
    "                  size_joint_head = 50,\n",
    "                  width_line = 6,\n",
    "                  color_joint_default = \"dark blue\",\n",
    "                  color_line = \"light blue\")"
   ]
  },
  {
   "cell_type": "markdown",
   "metadata": {},
   "source": [
    "## Re-referencing"
   ]
  },
  {
   "cell_type": "code",
   "execution_count": null,
   "metadata": {},
   "outputs": [],
   "source": [
    "joints_movement_plotter(sequence1_resampled, \"velocity\")"
   ]
  },
  {
   "cell_type": "code",
   "execution_count": 7,
   "metadata": {},
   "outputs": [
    {
     "name": "stdout",
     "output_type": "stream",
     "text": [
      "Re-referencing to SpineMid...\n",
      "\n",
      "\tCreating an empty sequence... 10% 20% 30% 40% 50% 60% 70% 80% 90% 100% - Done.\n",
      "\tPerforming re-referencing... 10% 20% 30% 40% 50% 60% 70% 80% 90% 100% - Done.\n",
      "Re-referencing over.\n",
      "\n"
     ]
    }
   ],
   "source": [
    "sequence1_rereferenced = sequence1_resampled.re_reference(\"SpineMid\")"
   ]
  },
  {
   "cell_type": "code",
   "execution_count": null,
   "metadata": {},
   "outputs": [],
   "source": [
    "joints_movement_plotter(sequence1_rereferenced, \"velocity\")"
   ]
  },
  {
   "cell_type": "markdown",
   "metadata": {},
   "source": [
    "### Trimming"
   ]
  },
  {
   "cell_type": "code",
   "execution_count": 8,
   "metadata": {},
   "outputs": [
    {
     "name": "stdout",
     "output_type": "stream",
     "text": [
      "Trimming the sequence:\n",
      "\tStarting timestamp: 5 seconds\n",
      "\tEnding timestamp: 15 seconds\n",
      "\tOriginal duration: 60.749999999999986 seconds\n",
      "\tDuration after trimming: 10 seconds\n",
      "Starting the trimming... 10% 20% 30% 40% 50% 60% 70% 80% 90% 100% - Done.\n",
      "\tNew sequence duration: 9.916666666666664 s.\n",
      "\tOriginal number of poses: 730 · New number of poses: 120\n",
      "Trimming over.\n",
      "\n"
     ]
    }
   ],
   "source": [
    "sequence1_trimmed = sequence1_rereferenced.trim(5, 15)"
   ]
  },
  {
   "cell_type": "code",
   "execution_count": null,
   "metadata": {},
   "outputs": [],
   "source": [
    "sequence_reader(sequence1_trimmed)"
   ]
  },
  {
   "cell_type": "markdown",
   "metadata": {},
   "source": [
    "### Scrambling"
   ]
  },
  {
   "cell_type": "code",
   "execution_count": 9,
   "metadata": {},
   "outputs": [
    {
     "name": "stdout",
     "output_type": "stream",
     "text": [
      "Randomizing the starting points of the joints...\n",
      "\tCreating a new sequence... OK. \n",
      "\tRandomizing starting positions... OK. \n",
      "\tMoving the joints... OK.\n"
     ]
    }
   ],
   "source": [
    "sequence1_randomized = sequence1_trimmed.randomize()"
   ]
  },
  {
   "cell_type": "code",
   "execution_count": null,
   "metadata": {},
   "outputs": [],
   "source": [
    "sequence_reader(sequence1_randomized,\n",
    "                show_lines = False,\n",
    "                show_joints_corrected = False)"
   ]
  },
  {
   "cell_type": "code",
   "execution_count": null,
   "metadata": {},
   "outputs": [],
   "source": [
    "save_video_sequence(sequence1_randomized, \n",
    "                    path_output = path_outputs + \"randomized.mp4\",\n",
    "                    resolution = (960, 540),\n",
    "                    zoom_level = 3.2,\n",
    "                    shift = (-351, -190),\n",
    "                    color_joint_default = \"bcbl blue\",\n",
    "                    show_lines = False,\n",
    "                    show_joints_corrected = False)"
   ]
  },
  {
   "cell_type": "markdown",
   "metadata": {},
   "source": [
    "## Analyzing"
   ]
  },
  {
   "cell_type": "code",
   "execution_count": null,
   "metadata": {},
   "outputs": [],
   "source": [
    "joints_movement_plotter(sequence1_rereferenced, \"x\")"
   ]
  },
  {
   "cell_type": "code",
   "execution_count": null,
   "metadata": {},
   "outputs": [],
   "source": [
    "single_joint_movement_plotter(sequence1_rereferenced, \"HandRight\")"
   ]
  },
  {
   "cell_type": "markdown",
   "metadata": {},
   "source": [
    "### Save our work"
   ]
  },
  {
   "cell_type": "code",
   "execution_count": 10,
   "metadata": {},
   "outputs": [
    {
     "name": "stdout",
     "output_type": "stream",
     "text": [
      "Saving XLSX global file: D:/OneDrive/Bureau/sequence1.xlsx...\n",
      "10% 20% 30% 40% 50% 60% 70% 80% 90% 100% - Done.\n"
     ]
    }
   ],
   "source": [
    "sequence1_rereferenced.save(path_outputs + \"sequence1.xlsx\")"
   ]
  },
  {
   "cell_type": "markdown",
   "metadata": {},
   "source": [
    "## Add the audio"
   ]
  },
  {
   "cell_type": "code",
   "execution_count": 11,
   "metadata": {},
   "outputs": [
    {
     "name": "stdout",
     "output_type": "stream",
     "text": [
      "Opening audio from D:/OneDrive/Documents/BCBL/05_BodyLingual/Stimuli/Recordings/Retellings/Audio/04_Trimmed_audio/05_Larraitz\\R034.wav... \n",
      "\tOpening the audio... \n",
      "\tConverting audio samples from stereo to mono... 100% - Done.\n",
      "Audio loaded.\n",
      "\n"
     ]
    }
   ],
   "source": [
    "audio1 = Audio(path_audio + \".wav\")"
   ]
  },
  {
   "cell_type": "code",
   "execution_count": 12,
   "metadata": {},
   "outputs": [
    {
     "name": "stdout",
     "output_type": "stream",
     "text": [
      "Audio clip · Name: 05_Larraitz\\R034.wav · Condition: None · Frequency: 48000 Hz · Number of samples: 2924544 · Duration: 0:01:00.927979\n"
     ]
    }
   ],
   "source": [
    "audio1.print_details()"
   ]
  },
  {
   "cell_type": "code",
   "execution_count": 13,
   "metadata": {},
   "outputs": [
    {
     "name": "stdout",
     "output_type": "stream",
     "text": [
      "Creating an Envelope object...\n",
      "Getting the Hilbert transform... Done.\n",
      "\n",
      "Applying a low-pass filter for frequencies below 50 Hz...\n"
     ]
    }
   ],
   "source": [
    "audio1_envelope = audio1.get_envelope(filter_over=50)"
   ]
  },
  {
   "cell_type": "code",
   "execution_count": 14,
   "metadata": {},
   "outputs": [
    {
     "name": "stdout",
     "output_type": "stream",
     "text": [
      "Resampling at 12 Hz (mode: cubic)...\n",
      "\tPerforming the resampling... 100% - Done.\n",
      "\tOriginal envelope had 2924544 samples.\n",
      "\tNew envelope has 732 samples.\n",
      "\n"
     ]
    }
   ],
   "source": [
    "audio1_resampled = audio1_envelope.resample(12)"
   ]
  },
  {
   "cell_type": "code",
   "execution_count": null,
   "metadata": {},
   "outputs": [],
   "source": [
    "joints_movement_plotter(sequence1_rereferenced, \n",
    "                        time_series = \"x\", \n",
    "                        audio_or_derivative = audio1_resampled, \n",
    "                        overlay_audio = True)"
   ]
  },
  {
   "cell_type": "code",
   "execution_count": null,
   "metadata": {},
   "outputs": [],
   "source": [
    "audio_plotter(audio1, 50, 3)"
   ]
  },
  {
   "cell_type": "code",
   "execution_count": 15,
   "metadata": {},
   "outputs": [],
   "source": [
    "subject1 = Subject(subject)\n",
    "subject1.add_sequence(sequence1_rereferenced)\n",
    "subject1.add_audio(audio1_resampled)"
   ]
  },
  {
   "cell_type": "code",
   "execution_count": 16,
   "metadata": {},
   "outputs": [],
   "source": [
    "experiment = Experiment()\n",
    "experiment.add_subject(subject1)"
   ]
  },
  {
   "cell_type": "code",
   "execution_count": 17,
   "metadata": {},
   "outputs": [
    {
     "name": "stdout",
     "output_type": "stream",
     "text": [
      "envelope\n"
     ]
    },
    {
     "name": "stderr",
     "output_type": "stream",
     "text": [
      "c:\\Python311\\Lib\\site-packages\\outdated\\utils.py:14: OutdatedPackageWarning: The package pingouin is out of date. Your version is 0.5.3, the latest is 0.5.4.\n",
      "Set the environment variable OUTDATED_IGNORE=1 to disable these warnings.\n",
      "  return warn(\n"
     ]
    },
    {
     "name": "stdout",
     "output_type": "stream",
     "text": [
      "Window resolution: (960, 540)\n"
     ]
    }
   ],
   "source": [
    "correlation_with_audio(experiment, \n",
    "                       sequence_metric=\"velocity\",\n",
    "                       audio_metric=\"envelope\", \n",
    "                       title=None, \n",
    "                       color_scheme=\"celsius\", \n",
    "                       color_background=\"white\",\n",
    "                       color_silhouette=\"black\",\n",
    "                       resolution=0.5,\n",
    "                       path_save=None)"
   ]
  }
 ],
 "metadata": {
  "kernelspec": {
   "display_name": "Python 3",
   "language": "python",
   "name": "python3"
  },
  "language_info": {
   "codemirror_mode": {
    "name": "ipython",
    "version": 3
   },
   "file_extension": ".py",
   "mimetype": "text/x-python",
   "name": "python",
   "nbconvert_exporter": "python",
   "pygments_lexer": "ipython3",
   "version": "3.11.4"
  }
 },
 "nbformat": 4,
 "nbformat_minor": 2
}
